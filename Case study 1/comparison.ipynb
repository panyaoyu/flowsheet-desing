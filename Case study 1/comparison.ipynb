{
 "cells": [
  {
   "cell_type": "code",
   "execution_count": null,
   "metadata": {},
   "outputs": [],
   "source": [
    "import matplotlib.pyplot as plt\n",
    "import numpy as np\n",
    "\n",
    "# Data\n",
    "update = list(range(1, 37))\n",
    "reward = [-4.56, -3.89, -3.47, -2.91, -2.37, -2.01, -1.92, -1.75, -1.6, -1.54, -1.43,\n",
    "          -1.25, -1.29, -1.3, -1.28, -1.03, -0.98, -0.9, -0.97, -0.78, -0.76, -0.73, -0.7,\n",
    "          -0.63, -0.76, -0.7, -0.71, -0.5, -0.58, -0.67, -0.52, -0.6, -0.67, -0.6, -0.45, -0.48]\n",
    "dloss = np.array([-0.021829365, -0.0198, -0.03128, -0.027288, -0.021918, -0.020514352, -0.021694034, -0.021701967,\n",
    "         -0.01786784, -0.019046182, -0.013904321, -0.015724134, -0.013061516, -0.015175832, -0.014647248,\n",
    "         -0.009801704, -0.010970973, -0.007461166, -0.007977546, -0.004551475, -0.004113669, -0.004327118,\n",
    "         -0.003489546, -0.003698379, -0.003326324, -0.002661296, -0.001493079, -0.001852175, -0.002321464,\n",
    "         -0.00171521, -0.001752259, -0.001858552, -0.001531451, -0.001373934, -0.001286569, -0.001217849])\n",
    "closs = np.array([-0.001800297, -0.001796, -0.003829, -0.0085142, -0.008835, -0.005793364, -0.007023966, -0.00700108,\n",
    "         -0.007563858, -0.010613876, -0.01064875, -0.008559644, -0.0057138, -0.007848489, -0.00430789,\n",
    "         -0.005436259, -0.004488359, -0.010681672, -0.009349076, -0.004573128, -0.006933054, -0.004695301,\n",
    "         -0.001956752, -0.002610304, -0.003502683, -0.008762883, -0.002986071, -0.00299171, -0.002578576,\n",
    "         -0.002794007, -0.00206925, -0.003922232, -0.003317653, -0.00190298, -0.002063326, -0.002438415])\n",
    "\n",
    "# Create figure and axis\n",
    "fig, ax1 = plt.subplots(figsize=(10, 6))\n",
    "\n",
    "# Plot reward on the first y-axis\n",
    "ax1.plot(update, reward, color='blue')\n",
    "ax1.set_xlabel('Update')\n",
    "ax1.set_ylabel('Cumulative reward', color='blue')\n",
    "ax1.tick_params('y', colors='blue')\n",
    "\n",
    "# Create a second y-axis for dloss\n",
    "ax2 = ax1.twinx()\n",
    "ax2.plot(update, np.abs(dloss), color='green', linestyle=\"--\")\n",
    "ax2.set_ylabel('Discrete loss', color='green')\n",
    "ax2.tick_params('y', colors='green')\n",
    "\n",
    "# Create a third y-axis for closs\n",
    "ax3 = ax1.twinx()\n",
    "ax3.spines['right'].set_position(('outward', 60))\n",
    "ax3.plot(update, np.abs(closs), color='red', linestyle=\"-.\")\n",
    "ax3.set_ylabel('Continuous loss', color='red')\n",
    "ax3.tick_params('y', colors='red')\n",
    "\n",
    "# Adjust layout\n",
    "fig.tight_layout()\n",
    "\n",
    "# Show the plot\n",
    "plt.grid(alpha=0.2)\n",
    "plt.show()\n"
   ]
  }
 ],
 "metadata": {
  "kernelspec": {
   "display_name": "myenv",
   "language": "python",
   "name": "python3"
  },
  "language_info": {
   "codemirror_mode": {
    "name": "ipython",
    "version": 3
   },
   "file_extension": ".py",
   "mimetype": "text/x-python",
   "name": "python",
   "nbconvert_exporter": "python",
   "pygments_lexer": "ipython3",
   "version": "3.9.13"
  }
 },
 "nbformat": 4,
 "nbformat_minor": 2
}
