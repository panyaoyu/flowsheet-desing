{
 "cells": [
  {
   "cell_type": "code",
   "execution_count": null,
   "metadata": {},
   "outputs": [],
   "source": [
    "import pandas as pd \n",
    "import matplotlib.pyplot as plt\n",
    "import numpy as np"
   ]
  },
  {
   "cell_type": "code",
   "execution_count": null,
   "metadata": {},
   "outputs": [],
   "source": [
    "# Hybrid plot\n",
    "path_h = \"\"\n",
    "df_h = pd.read_excel(path_h)\n",
    "\n",
    "\n",
    "# Calculate mean, lower bound (LB), and upper bound (UB)\n",
    "mean = df_h.mean(axis=1)\n",
    "std = df_h.std(axis=1)\n",
    "LB = mean - std\n",
    "UB = mean + std\n",
    "\n",
    "# Create a DataFrame with the calculated values\n",
    "data_h = {\"mean\": mean, \"LB\": LB, \"UB\": UB}\n",
    "df_h1 = pd.DataFrame(data_h)\n",
    "df_h1 = df_h1.dropna()\n",
    "\n",
    "\n",
    "# Fill between LB and UB\n",
    "plt.fill_between(df_h1.index, df_h1['LB'], df_h1['UB'], alpha=0.3, label='Standard deviation hybrid', color=\"red\")\n",
    "\n",
    "# Plot the mean line\n",
    "plt.plot(df_h1['mean'], label='Mean hybrid', linewidth=2, color=\"red\")\n",
    "plt.ylim(-9, -3)\n",
    "\n",
    "\n",
    "# Customize the plot\n",
    "plt.xlabel('Episodes')\n",
    "plt.ylabel('Cumulative rewards')\n",
    "plt.legend(loc='lower right')\n",
    "plt.grid(alpha=0.2)\n",
    "plt.show()"
   ]
  },
  {
   "cell_type": "code",
   "execution_count": null,
   "metadata": {},
   "outputs": [],
   "source": [
    "# Hybrid plot\n",
    "path_d = \"\"\n",
    "df_d = pd.read_excel(path_d)\n",
    "\n",
    "\n",
    "# Calculate mean, lower bound (LB), and upper bound (UB)\n",
    "mean = df_d.mean(axis=1)\n",
    "std = df_d.std(axis=1)\n",
    "LB = mean - std\n",
    "UB = mean + std\n",
    "\n",
    "# Create a DataFrame with the calculated values\n",
    "data_d = {\"mean\": mean, \"LB\": LB, \"UB\": UB}\n",
    "df_d1 = pd.DataFrame(data_d)\n",
    "df_d1 = df_d1.dropna()\n",
    "\n",
    "\n",
    "# Fill between LB and UB\n",
    "plt.fill_between(df_d1.index, df_d1['LB'], df_d1['UB'], alpha=0.3, label='Standard deviation discrete', color=\"blue\")\n",
    "\n",
    "# Plot the mean line\n",
    "plt.plot(df_d1['mean'], label='Mean discrete', linewidth=2, color=\"blue\")\n",
    "plt.ylim(-9, -0.5)\n",
    "\n",
    "\n",
    "# Customize the plot\n",
    "plt.xlabel('Episodes')\n",
    "plt.ylabel('Cumulative rewards')\n",
    "plt.legend(loc='lower right')\n",
    "plt.grid(alpha=0.2)\n",
    "plt.show()"
   ]
  }
 ],
 "metadata": {
  "kernelspec": {
   "display_name": "base",
   "language": "python",
   "name": "python3"
  },
  "language_info": {
   "codemirror_mode": {
    "name": "ipython",
    "version": 3
   },
   "file_extension": ".py",
   "mimetype": "text/x-python",
   "name": "python",
   "nbconvert_exporter": "python",
   "pygments_lexer": "ipython3",
   "version": "3.9.13"
  }
 },
 "nbformat": 4,
 "nbformat_minor": 2
}
